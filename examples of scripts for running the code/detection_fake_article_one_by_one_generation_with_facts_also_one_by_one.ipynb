{
 "cells": [
  {
   "cell_type": "code",
   "execution_count": null,
   "metadata": {},
   "outputs": [],
   "source": [
    "import fake_detector \n",
    "import pandas as pd\n",
    "import os\n",
    "\n",
    "\n",
    "load_folder = \"changed_articles\"\n",
    "name_of_loaded_file = \"fake_article_one_by_one_generation_with_facts_also_one_by_one.csv\"\n",
    "path_string_load = os.path.join(load_folder, name_of_loaded_file)\n",
    "\n",
    "\n",
    "data = pd.read_csv(path_string_load)\n",
    "data = data.dropna()\n",
    "\n",
    "print(data.values.tolist())\n",
    "print(data.shape)\n",
    "\n",
    "results = fake_detector.fake_detect_comparison_true_to_true_and_false_to_true(data.values.tolist(), print_comments = True)\n",
    "\n",
    "save_folder = \"saved_results\"\n",
    "name_of_saved_file = \"results_Llama3.1_one_by_one_generation_with_fact_also_one_by_one2.txt\"\n",
    "path_save_string = os.path.join(save_folder, name_of_saved_file)\n",
    "\n",
    "columns = [\"False for true article\", \"All responses for true article\", \"False for false article\", \"All responses for false article\"]\n",
    "results = pd.DataFrame(results, columns=columns)\n",
    "\n",
    "results.to_csv(path_save_string, index = False)"
   ]
  }
 ],
 "metadata": {
  "language_info": {
   "name": "python"
  }
 },
 "nbformat": 4,
 "nbformat_minor": 2
}
